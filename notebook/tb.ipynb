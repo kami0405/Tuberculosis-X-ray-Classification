{
 "cells": [
  {
   "cell_type": "code",
   "execution_count": 1,
   "id": "abed3874",
   "metadata": {},
   "outputs": [],
   "source": [
    "import torch\n",
    "import numpy as np\n",
    "import torch.nn as nn\n",
    "from torchvision import datasets, transforms\n",
    "from torch.utils.data import DataLoader"
   ]
  },
  {
   "cell_type": "code",
   "execution_count": 2,
   "id": "abaf0035",
   "metadata": {},
   "outputs": [],
   "source": [
    "data_dir = \"TB_Chest_Radiography_Database\""
   ]
  },
  {
   "cell_type": "markdown",
   "id": "55d0ee9c",
   "metadata": {},
   "source": [
    "PreProcessing & Augmentation\n",
    "\n"
   ]
  },
  {
   "cell_type": "code",
   "execution_count": 3,
   "id": "7699ef42",
   "metadata": {},
   "outputs": [],
   "source": [
    "transform = transforms.Compose([\n",
    "    transforms.Resize((224, 224)), # Resize images to 224x224 to fit into CNN models\n",
    "    transforms.ToTensor(),  # Convert images to PyTorch tensors [0, 1]\n",
    "    transforms.Normalize(mean=[0.5], std=[0.5]) # Normalize images to [-1, 1]\n",
    "])\n",
    "                         "
   ]
  },
  {
   "cell_type": "code",
   "execution_count": 4,
   "id": "46276742",
   "metadata": {},
   "outputs": [],
   "source": [
    "datasets = datasets.ImageFolder(root=data_dir, transform=transform) # Load dataset from directory"
   ]
  },
  {
   "cell_type": "code",
   "execution_count": 5,
   "id": "522541ab",
   "metadata": {},
   "outputs": [],
   "source": [
    "train_size = int(0.7 * len(datasets)) # 70% for training\n",
    "val_size = int(0.15 * len(datasets)) # 15% for validation\n",
    "test_size = len(datasets) - train_size - val_size # 15% for testing"
   ]
  },
  {
   "cell_type": "code",
   "execution_count": 6,
   "id": "32e51289",
   "metadata": {},
   "outputs": [],
   "source": [
    "train_dataset, val_dataset, test_dataset = torch.utils.data.random_split(datasets, [train_size, val_size, test_size])"
   ]
  },
  {
   "cell_type": "code",
   "execution_count": 7,
   "id": "d7528ed2",
   "metadata": {},
   "outputs": [],
   "source": [
    "train_loader = DataLoader(datasets, batch_size=32, shuffle=True) #  randomize the order of samples every epoch so the model doesn’t memorize a fixed sequence.\n",
    "val_loader = DataLoader(val_dataset, batch_size=32, shuffle=False) # false =no shuffle\n",
    "test_loader = DataLoader(test_dataset, batch_size=32, shuffle=False) "
   ]
  },
  {
   "cell_type": "code",
   "execution_count": 8,
   "id": "14b0250a",
   "metadata": {},
   "outputs": [
    {
     "name": "stdout",
     "output_type": "stream",
     "text": [
      "Train: 2940 samples | Val: 630 samples | Test: 630 samples\n",
      "Classes ['Normal', 'Tuberculosis']\n"
     ]
    }
   ],
   "source": [
    "print(f\"Train: {len(train_dataset)} samples | Val: {len(val_dataset)} samples | Test: {len(test_dataset)} samples\")\n",
    "print(\"Classes\", datasets.classes) # ['Normal', 'TB']"
   ]
  },
  {
   "cell_type": "code",
   "execution_count": 9,
   "id": "83670199",
   "metadata": {},
   "outputs": [
    {
     "name": "stdout",
     "output_type": "stream",
     "text": [
      "Train: 2940 (70.0%)\n",
      "Val: 630 (15.0%)\n",
      "Test: 630 (15.0%)\n"
     ]
    }
   ],
   "source": [
    "total = len(datasets)\n",
    "print(f\"Train: {len(train_dataset)} ({len(train_dataset)/total:.1%})\")\n",
    "print(f\"Val: {len(val_dataset)} ({len(val_dataset)/total:.1%})\")\n",
    "print(f\"Test: {len(test_dataset)} ({len(test_dataset)/total:.1%})\")\n"
   ]
  },
  {
   "cell_type": "markdown",
   "id": "44846cc8",
   "metadata": {},
   "source": [
    "DenseNet-121"
   ]
  },
  {
   "cell_type": "code",
   "execution_count": 10,
   "id": "d0a5bff6",
   "metadata": {},
   "outputs": [],
   "source": [
    "import torch.nn as nn\n",
    "import torchvision.models as models"
   ]
  },
  {
   "cell_type": "code",
   "execution_count": 11,
   "id": "58011b20",
   "metadata": {},
   "outputs": [
    {
     "name": "stderr",
     "output_type": "stream",
     "text": [
      "c:\\Users\\mboug\\Desktop\\TB\\venv\\Lib\\site-packages\\torchvision\\models\\_utils.py:223: UserWarning: Arguments other than a weight enum or `None` for 'weights' are deprecated since 0.13 and may be removed in the future. The current behavior is equivalent to passing `weights=DenseNet121_Weights.IMAGENET1K_V1`. You can also use `weights=DenseNet121_Weights.DEFAULT` to get the most up-to-date weights.\n",
      "  warnings.warn(msg)\n"
     ]
    }
   ],
   "source": [
    "model = models.densenet121(weights=True) # Load pre-trained DenseNet-121 model"
   ]
  },
  {
   "cell_type": "code",
   "execution_count": 12,
   "id": "d6fc7b01",
   "metadata": {},
   "outputs": [],
   "source": [
    "for param in model.parameters():\n",
    "    param.requires_grad = False  # Freeze all layers except the last one"
   ]
  },
  {
   "cell_type": "code",
   "execution_count": 13,
   "id": "2c546e06",
   "metadata": {},
   "outputs": [],
   "source": [
    "# Unfreeze the last dense block and classifier for fine-tuning -> This lets the model adapt high-level features to TB X-rays without destroying the low-level ones.\n",
    "for param in model.features.denseblock4.parameters():\n",
    "    param.requires_grad = True  \n",
    "\n",
    "for param in model.classifier.parameters():\n",
    "    param.requires_grad = True  # "
   ]
  },
  {
   "cell_type": "code",
   "execution_count": 14,
   "id": "67e28cca",
   "metadata": {},
   "outputs": [],
   "source": [
    "# Replace the classifier with a new one for binary classification\n",
    "num_features = model.classifier.in_features  # Get the number of input features to the classifier\n",
    "model.classifier = nn.Linear(num_features, 2)  # Replace the classifier with a new one for binary classification"
   ]
  },
  {
   "cell_type": "code",
   "execution_count": 15,
   "id": "3876da99",
   "metadata": {},
   "outputs": [],
   "source": [
    "device = torch.device(\"cuda\" if torch.cuda.is_available() else \"cpu\")  \n",
    "model = model.to(device)"
   ]
  },
  {
   "cell_type": "markdown",
   "id": "09245e40",
   "metadata": {},
   "source": [
    "Training"
   ]
  },
  {
   "cell_type": "code",
   "execution_count": 17,
   "id": "2e44c200",
   "metadata": {},
   "outputs": [],
   "source": [
    "criterion = nn.CrossEntropyLoss() #Loss Function\n",
    "optimizer = torch.optim.Adam(model.classifier.parameters(), lr=0.001)  "
   ]
  },
  {
   "cell_type": "code",
   "execution_count": 18,
   "id": "71ddcf0e",
   "metadata": {},
   "outputs": [],
   "source": [
    "num_epochs = 5 "
   ]
  },
  {
   "cell_type": "code",
   "execution_count": 23,
   "id": "a0256be0",
   "metadata": {},
   "outputs": [
    {
     "name": "stdout",
     "output_type": "stream",
     "text": [
      "Epoch [1/5] Train Loss: 0.0307 | Train Acc: 0.9902 Val Loss: 0.0193 | Val Acc: 0.9984\n",
      "Epoch [2/5] Train Loss: 0.0268 | Train Acc: 0.9921 Val Loss: 0.0242 | Val Acc: 0.9905\n",
      "Epoch [3/5] Train Loss: 0.0259 | Train Acc: 0.9917 Val Loss: 0.0166 | Val Acc: 0.9984\n",
      "Epoch [4/5] Train Loss: 0.0229 | Train Acc: 0.9936 Val Loss: 0.0167 | Val Acc: 0.9968\n",
      "Epoch [5/5] Train Loss: 0.0206 | Train Acc: 0.9940 Val Loss: 0.0129 | Val Acc: 0.9984\n"
     ]
    }
   ],
   "source": [
    "for epoch in range(num_epochs):\n",
    "    model.train()\n",
    "    train_loss, train_correct, total_train = 0, 0, 0\n",
    "    \n",
    "    for images, labels in train_loader:\n",
    "        images, labels = images.to(device), labels.to(device)\n",
    "        \n",
    "        optimizer.zero_grad()\n",
    "        outputs = model(images)\n",
    "        \n",
    "        loss = criterion(outputs, labels)\n",
    "        loss.backward()\n",
    "        optimizer.step()\n",
    "        \n",
    "        train_loss += loss.item() * images.size(0)\n",
    "        train_correct += (outputs.argmax(1) == labels).sum().item()\n",
    "        total_train += labels.size(0)\n",
    "    \n",
    "    train_acc = train_correct / total_train\n",
    "    train_loss = train_loss / total_train\n",
    "\n",
    "    model.eval()\n",
    "    val_loss, val_correct, total_val = 0, 0, 0\n",
    "    with torch.no_grad():\n",
    "        for images, labels in val_loader:\n",
    "            images, labels = images.to(device), labels.to(device)\n",
    "            outputs = model(images)\n",
    "            \n",
    "            loss = criterion(outputs, labels)\n",
    "            val_loss += loss.item() * images.size(0)\n",
    "            val_correct += (outputs.argmax(1) == labels).sum().item()\n",
    "            total_val += labels.size(0)\n",
    "    \n",
    "    val_acc = val_correct / total_val\n",
    "    val_loss = val_loss / total_val\n",
    "\n",
    "    print(f\"Epoch [{epoch+1}/{num_epochs}] \"\n",
    "          f\"Train Loss: {train_loss:.4f} | Train Acc: {train_acc:.4f} \"\n",
    "          f\"Val Loss: {val_loss:.4f} | Val Acc: {val_acc:.4f}\")\n"
   ]
  },
  {
   "cell_type": "code",
   "execution_count": 25,
   "id": "7f717498",
   "metadata": {},
   "outputs": [
    {
     "name": "stdout",
     "output_type": "stream",
     "text": [
      "              precision    recall  f1-score   support\n",
      "\n",
      "      Normal       0.99      1.00      1.00       512\n",
      "Tuberculosis       1.00      0.97      0.99       118\n",
      "\n",
      "    accuracy                           1.00       630\n",
      "   macro avg       1.00      0.99      0.99       630\n",
      "weighted avg       1.00      1.00      1.00       630\n",
      "\n"
     ]
    },
    {
     "data": {
      "image/png": "[encoded data removed]",
      "text/plain": [
       "<Figure size 800x600 with 2 Axes>"
      ]
     },
     "metadata": {},
     "output_type": "display_data"
    },
    {
     "data": {
      "image/png": "[encoded data removed]",
      "text/plain": [
       "<Figure size 800x600 with 1 Axes>"
      ]
     },
     "metadata": {},
     "output_type": "display_data"
    }
   ],
   "source": [
    "from sklearn.metrics import classification_report, confusion_matrix, roc_curve, auc\n",
    "import seaborn as sns\n",
    "import matplotlib.pyplot as plt\n",
    "\n",
    "model.eval()\n",
    "all_labels = []\n",
    "all_preds = []\n",
    "all_probs = []\n",
    "\n",
    "\n",
    "with torch.no_grad():\n",
    "    for images, labels in test_loader:\n",
    "        images, labels = images.to(device), labels.to(device)\n",
    "        outputs = model(images)\n",
    "        probs = torch.softmax(outputs, dim=1)\n",
    "        preds = outputs.argmax(1)\n",
    "\n",
    "        all_labels.extend(labels.cpu().numpy())\n",
    "        all_preds.extend(preds.cpu().numpy())\n",
    "        all_probs.extend(probs[:,1].cpu().numpy())\n",
    "\n",
    "# ---- Classification report ----\n",
    "print(classification_report(all_labels, all_preds, target_names=datasets.classes))\n",
    "\n",
    "\n",
    "# ---- Confusion matrix ----\n",
    "cm = confusion_matrix(all_labels, all_preds)\n",
    "plt.figure(figsize=(8, 6))\n",
    "sns.heatmap(cm, annot=True, fmt='d', cmap='Blues',xticklabels=datasets.classes, yticklabels=datasets.classes)\n",
    "plt.xlabel('Predicted')\n",
    "plt.ylabel('Actual')\n",
    "plt.title('Confusion Matrix')\n",
    "plt.show()\n",
    "\n",
    "# ---- ROC curve and AUC ----\n",
    "fpr, tpr, thresholds = roc_curve(all_labels, all_probs)\n",
    "roc_auc = auc(fpr, tpr)\n",
    "\n",
    "plt.figure(figsize=(8, 6))\n",
    "plt.plot(fpr, tpr, color='blue', label=f'ROC curve (AUC = {roc_auc:.4f})')\n",
    "plt.plot([0,1], [0,1], color='gray', linestyle='--')\n",
    "plt.xlabel('False Positive Rate')\n",
    "plt.ylabel('True Positive Rate')\n",
    "plt.title('ROC Curve - TB Detection')\n",
    "plt.legend(loc='lower right')\n",
    "plt.grid(True)\n",
    "plt.show()\n",
    "\n",
    "\n",
    "\n"
   ]
  },
  {
   "cell_type": "code",
   "execution_count": 26,
   "id": "babaa8a3",
   "metadata": {},
   "outputs": [
    {
     "name": "stdout",
     "output_type": "stream",
     "text": [
      "Model saved successfully!\n"
     ]
    }
   ],
   "source": [
    "# Save the model's state dictionary\n",
    "torch.save(model.state_dict(), \"tb_detector_densenet121.pth\")\n",
    "print(\"Model saved successfully!\")\n"
   ]
  },
  {
   "cell_type": "code",
   "execution_count": null,
   "id": "f8575e9b",
   "metadata": {},
   "outputs": [],
   "source": []
  }
 ],
 "metadata": {
  "kernelspec": {
   "display_name": "venv",
   "language": "python",
   "name": "python3"
  },
  "language_info": {
   "codemirror_mode": {
    "name": "ipython",
    "version": 3
   },
   "file_extension": ".py",
   "mimetype": "text/x-python",
   "name": "python",
   "nbconvert_exporter": "python",
   "pygments_lexer": "ipython3",
   "version": "3.11.5"
  }
 },
 "nbformat": 4,
 "nbformat_minor": 5
}
